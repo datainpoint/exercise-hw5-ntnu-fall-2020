{
 "cells": [
  {
   "cell_type": "markdown",
   "metadata": {
    "deletable": false,
    "editable": false
   },
   "source": [
    "## Introduction to Python\n",
    "\n",
    "> Homework 5 | NTNU Fall 2020\n",
    "\n",
    "Kuo, Yao-Jen <yaojenkuo@datainpoint.com> from [DATAINPOINT](https://www.datainpoint.com)"
   ]
  },
  {
   "cell_type": "markdown",
   "metadata": {},
   "source": [
    "## Define a function named `bool_to_word` that takes a boolean value and return a \"Yes\" string for true, or a \"No\" string for false.\n",
    "\n",
    "- Expected inputs: a bool `boolean`.\n",
    "- Expected outputs: a string."
   ]
  },
  {
   "cell_type": "code",
   "execution_count": 1,
   "metadata": {},
   "outputs": [],
   "source": [
    "def bool_to_word(boolean):\n",
    "    \"\"\"\n",
    "    >>> bool_to_word(True)\n",
    "    \"Yes\"\n",
    "    >>> bool_to_word(False)\n",
    "    \"No\"\n",
    "    \"\"\"\n",
    "    ### BEGIN SOLUTION\n",
    "    ### END SOLUTION"
   ]
  },
  {
   "cell_type": "markdown",
   "metadata": {},
   "source": [
    "## Define a function named `opposite` that takes a numeric value and return its opposite.\n",
    "\n",
    "- Expected inputs: a numeric.\n",
    "- Expected outputs: a numeric."
   ]
  },
  {
   "cell_type": "code",
   "execution_count": 2,
   "metadata": {},
   "outputs": [],
   "source": [
    "def opposite(number):\n",
    "    \"\"\"\n",
    "    >>> opposite(1)\n",
    "    -1\n",
    "    >>> opposite(-1)\n",
    "    1\n",
    "    >>> opposite(5)\n",
    "    -5\n",
    "    >>> opposite(-5)\n",
    "    5\n",
    "    \"\"\"\n",
    "    ### BEGIN SOLUTION\n",
    "    ### END SOLUTION"
   ]
  },
  {
   "cell_type": "markdown",
   "metadata": {},
   "source": [
    "## Define a function named `invert`. Given a set of numbers, return the additive inverse of each. Each positive becomes negatives, and the negatives become positives.\n",
    "\n",
    "- Expected inputs: a list.\n",
    "- Expected outputs: a list."
   ]
  },
  {
   "cell_type": "code",
   "execution_count": 3,
   "metadata": {},
   "outputs": [],
   "source": [
    "def invert(lst):\n",
    "    \"\"\"\n",
    "    >>> invert([1, 2, 3, 4, 5])\n",
    "    [-1, -2, -3, -4, -5]\n",
    "    >>> invert([1, -2, 3, -4, 5])\n",
    "    [-1, 2, -3, 4, -5]\n",
    "    >>> invert([])\n",
    "    []\n",
    "    \"\"\"\n",
    "    ### BEGIN SOLUTION\n",
    "    ### END SOLUTION"
   ]
  },
  {
   "cell_type": "markdown",
   "metadata": {},
   "source": [
    "## Define a function named `add_and_square` that is able to add `*args` then square them.\n",
    "\n",
    "\\begin{equation}\n",
    "(a + b)^2 = a^2 + 2ab + b^2 \\\\\n",
    "(a + b + c)^2 = a^2 + b^2 + c^2 + 2ab + 2bc + 2ca \\\\\n",
    "\\cdots\n",
    "\\end{equation}\n",
    "\n",
    "- Expected inputs: `*args`.\n",
    "- Expected outputs: a numeric."
   ]
  },
  {
   "cell_type": "code",
   "execution_count": 4,
   "metadata": {},
   "outputs": [],
   "source": [
    "def add_and_squared(*args):\n",
    "    \"\"\"\n",
    "    >>> add_and_squared(1, 2)\n",
    "    9\n",
    "    >>> add_and_squared(1, 2, 3)\n",
    "    36\n",
    "    >>> add_and_squared(1, 2, 3, 4)\n",
    "    100\n",
    "    \"\"\"\n",
    "    ### BEGIN SOLUTION\n",
    "    ### END SOLUTION"
   ]
  },
  {
   "cell_type": "markdown",
   "metadata": {},
   "source": [
    "## Define a function named `sum_of_numbers`. Given two integers `a` and `b`, which can be positive or negative, find the sum of all the integers between including them too and return it. If the two numbers are equal return `a` or `b`.\n",
    "\n",
    "- Expected inputs: 2 integers.\n",
    "- Expected outputs: an integer.\n",
    "\n",
    "PS `a` and `b` are not ordered."
   ]
  },
  {
   "cell_type": "code",
   "execution_count": 5,
   "metadata": {},
   "outputs": [],
   "source": [
    "def sum_of_numbers(a, b):\n",
    "    \"\"\"\n",
    "    >>> sum_of_numbers(1, 0) # 0 + 1\n",
    "    1\n",
    "    >>> sum_of_numbers(1, 3) # 1 + 2 + 3\n",
    "    6\n",
    "    >>> sum_of_numbers(1, 1) # Since both are the same\n",
    "    1\n",
    "    >>> sum_of_numbers(-1, 2) # -1 + 0 + 1 + 2\n",
    "    2\n",
    "    \"\"\"\n",
    "    ### BEGIN SOLUTION\n",
    "    ### END SOLUTION"
   ]
  },
  {
   "cell_type": "markdown",
   "metadata": {
    "deletable": false,
    "editable": false
   },
   "source": [
    "## Run tests!\n",
    "\n",
    "Kernel -> Restart & Run All."
   ]
  },
  {
   "cell_type": "code",
   "execution_count": 6,
   "metadata": {
    "deletable": false,
    "editable": false
   },
   "outputs": [
    {
     "name": "stderr",
     "output_type": "stream",
     "text": [
      "test_add_and_square (__main__.TestHomeworkFive) ... FAIL\n",
      "test_bool_to_word (__main__.TestHomeworkFive) ... FAIL\n",
      "test_invert (__main__.TestHomeworkFive) ... FAIL\n",
      "test_opposite (__main__.TestHomeworkFive) ... FAIL\n",
      "test_sum_of_numbers (__main__.TestHomeworkFive) ... FAIL\n",
      "\n",
      "======================================================================\n",
      "FAIL: test_add_and_square (__main__.TestHomeworkFive)\n",
      "----------------------------------------------------------------------\n",
      "Traceback (most recent call last):\n",
      "  File \"<ipython-input-6-d031aa8c19c5>\", line 17, in test_add_and_square\n",
      "    self.assertEqual(add_and_squared(1, 2), 9)\n",
      "AssertionError: None != 9\n",
      "\n",
      "======================================================================\n",
      "FAIL: test_bool_to_word (__main__.TestHomeworkFive)\n",
      "----------------------------------------------------------------------\n",
      "Traceback (most recent call last):\n",
      "  File \"<ipython-input-6-d031aa8c19c5>\", line 5, in test_bool_to_word\n",
      "    self.assertEqual(bool_to_word(True), 'Yes')\n",
      "AssertionError: None != 'Yes'\n",
      "\n",
      "======================================================================\n",
      "FAIL: test_invert (__main__.TestHomeworkFive)\n",
      "----------------------------------------------------------------------\n",
      "Traceback (most recent call last):\n",
      "  File \"<ipython-input-6-d031aa8c19c5>\", line 13, in test_invert\n",
      "    self.assertEqual(invert([1, 2, 3, 4, 5]), [-1, -2, -3, -4, -5])\n",
      "AssertionError: None != [-1, -2, -3, -4, -5]\n",
      "\n",
      "======================================================================\n",
      "FAIL: test_opposite (__main__.TestHomeworkFive)\n",
      "----------------------------------------------------------------------\n",
      "Traceback (most recent call last):\n",
      "  File \"<ipython-input-6-d031aa8c19c5>\", line 8, in test_opposite\n",
      "    self.assertEqual(opposite(1), -1)\n",
      "AssertionError: None != -1\n",
      "\n",
      "======================================================================\n",
      "FAIL: test_sum_of_numbers (__main__.TestHomeworkFive)\n",
      "----------------------------------------------------------------------\n",
      "Traceback (most recent call last):\n",
      "  File \"<ipython-input-6-d031aa8c19c5>\", line 21, in test_sum_of_numbers\n",
      "    self.assertEqual(sum_of_numbers(1, 0), 1)\n",
      "AssertionError: None != 1\n",
      "\n",
      "----------------------------------------------------------------------\n",
      "Ran 5 tests in 0.010s\n",
      "\n",
      "FAILED (failures=5)\n"
     ]
    }
   ],
   "source": [
    "import unittest\n",
    "\n",
    "class TestHomeworkFive(unittest.TestCase):\n",
    "    def test_bool_to_word(self):\n",
    "        self.assertEqual(bool_to_word(True), 'Yes')\n",
    "        self.assertEqual(bool_to_word(False), 'No')\n",
    "    def test_opposite(self):\n",
    "        self.assertEqual(opposite(1), -1)\n",
    "        self.assertEqual(opposite(-1), 1)\n",
    "        self.assertEqual(opposite(5), -5)\n",
    "        self.assertEqual(opposite(-5), 5)\n",
    "    def test_invert(self):\n",
    "        self.assertEqual(invert([1, 2, 3, 4, 5]), [-1, -2, -3, -4, -5])\n",
    "        self.assertEqual(invert([1, -2, 3, -4, 5]), [-1, 2, -3, 4, -5])\n",
    "        self.assertEqual(invert([]), [])\n",
    "    def test_add_and_square(self):\n",
    "        self.assertEqual(add_and_squared(1, 2), 9)\n",
    "        self.assertEqual(add_and_squared(1, 2, 3), 36)\n",
    "        self.assertEqual(add_and_squared(1, 2, 3, 4), 100)\n",
    "    def test_sum_of_numbers(self):\n",
    "        self.assertEqual(sum_of_numbers(1, 0), 1)\n",
    "        self.assertEqual(sum_of_numbers(1, 3), 6)\n",
    "        self.assertEqual(sum_of_numbers(1, 1), 1)\n",
    "        self.assertEqual(sum_of_numbers(-1, 2), 2)\n",
    "        \n",
    "suite = unittest.TestLoader().loadTestsFromTestCase(TestHomeworkFive)\n",
    "runner = unittest.TextTestRunner(verbosity=2)\n",
    "test_results = runner.run(suite)\n",
    "number_of_failures = len(test_results.failures)\n",
    "number_of_errors = len(test_results.errors)\n",
    "number_of_test_runs = test_results.testsRun\n",
    "number_of_successes = number_of_test_runs - (number_of_failures + number_of_errors)\n",
    "total_points = number_of_successes * 3"
   ]
  },
  {
   "cell_type": "code",
   "execution_count": 7,
   "metadata": {
    "deletable": false,
    "editable": false
   },
   "outputs": [
    {
     "name": "stdout",
     "output_type": "stream",
     "text": [
      "You've got 0 successes with 0 points.\n"
     ]
    }
   ],
   "source": [
    "print(\"You've got {} successes with {} points.\".format(number_of_successes, total_points))"
   ]
  }
 ],
 "metadata": {
  "kernelspec": {
   "display_name": "Python Data Analysis",
   "language": "python",
   "name": "pyda"
  },
  "language_info": {
   "codemirror_mode": {
    "name": "ipython",
    "version": 3
   },
   "file_extension": ".py",
   "mimetype": "text/x-python",
   "name": "python",
   "nbconvert_exporter": "python",
   "pygments_lexer": "ipython3",
   "version": "3.6.8"
  }
 },
 "nbformat": 4,
 "nbformat_minor": 4
}
